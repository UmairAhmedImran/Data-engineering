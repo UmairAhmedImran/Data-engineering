{
 "cells": [
  {
   "cell_type": "code",
   "execution_count": 1,
   "id": "457c4625-5883-4aab-b8a1-370c50f65535",
   "metadata": {},
   "outputs": [],
   "source": [
    "import pandas as pd\n",
    "import random"
   ]
  },
  {
   "cell_type": "code",
   "execution_count": 2,
   "id": "9159a156-99e0-4199-bac5-bea1a4ee66dc",
   "metadata": {},
   "outputs": [],
   "source": [
    "leng = 10000000\n",
    "data = { 'a': (random.randint(0, 100) for _ in range(leng)),\n",
    "     'b': (random.randint(2, 200) for _ in range(leng))}"
   ]
  },
  {
   "cell_type": "code",
   "execution_count": 3,
   "id": "f3bc7b8b-6f9d-4d9e-a4a9-90a4dd67670b",
   "metadata": {},
   "outputs": [],
   "source": [
    "df = pd.DataFrame(data)"
   ]
  },
  {
   "cell_type": "code",
   "execution_count": 4,
   "id": "ade252df-5a38-459a-827d-2d9c3b7a132a",
   "metadata": {},
   "outputs": [
    {
     "data": {
      "text/html": [
       "<div>\n",
       "<style scoped>\n",
       "    .dataframe tbody tr th:only-of-type {\n",
       "        vertical-align: middle;\n",
       "    }\n",
       "\n",
       "    .dataframe tbody tr th {\n",
       "        vertical-align: top;\n",
       "    }\n",
       "\n",
       "    .dataframe thead th {\n",
       "        text-align: right;\n",
       "    }\n",
       "</style>\n",
       "<table border=\"1\" class=\"dataframe\">\n",
       "  <thead>\n",
       "    <tr style=\"text-align: right;\">\n",
       "      <th></th>\n",
       "      <th>a</th>\n",
       "      <th>b</th>\n",
       "    </tr>\n",
       "  </thead>\n",
       "  <tbody>\n",
       "    <tr>\n",
       "      <th>0</th>\n",
       "      <td>38</td>\n",
       "      <td>59</td>\n",
       "    </tr>\n",
       "    <tr>\n",
       "      <th>1</th>\n",
       "      <td>91</td>\n",
       "      <td>172</td>\n",
       "    </tr>\n",
       "    <tr>\n",
       "      <th>2</th>\n",
       "      <td>16</td>\n",
       "      <td>75</td>\n",
       "    </tr>\n",
       "    <tr>\n",
       "      <th>3</th>\n",
       "      <td>74</td>\n",
       "      <td>28</td>\n",
       "    </tr>\n",
       "    <tr>\n",
       "      <th>4</th>\n",
       "      <td>7</td>\n",
       "      <td>164</td>\n",
       "    </tr>\n",
       "  </tbody>\n",
       "</table>\n",
       "</div>"
      ],
      "text/plain": [
       "    a    b\n",
       "0  38   59\n",
       "1  91  172\n",
       "2  16   75\n",
       "3  74   28\n",
       "4   7  164"
      ]
     },
     "execution_count": 4,
     "metadata": {},
     "output_type": "execute_result"
    }
   ],
   "source": [
    "df.head()"
   ]
  },
  {
   "cell_type": "code",
   "execution_count": 5,
   "id": "62a89078-2bd6-4a85-ab1d-5c59207dfad9",
   "metadata": {},
   "outputs": [
    {
     "data": {
      "text/plain": [
       "a    29.152669\n",
       "b    57.450031\n",
       "dtype: float64"
      ]
     },
     "execution_count": 5,
     "metadata": {},
     "output_type": "execute_result"
    }
   ],
   "source": [
    "df.std()"
   ]
  },
  {
   "cell_type": "code",
   "execution_count": 6,
   "id": "4e13d539-6f37-4956-919e-ce2be63c6ece",
   "metadata": {},
   "outputs": [],
   "source": [
    "import dask.dataframe as dd"
   ]
  },
  {
   "cell_type": "code",
   "execution_count": 7,
   "id": "de31c115-aaa6-4f21-b0bf-3699a38edfdc",
   "metadata": {},
   "outputs": [],
   "source": [
    "ddf = dd.from_pandas(df, npartitions=3)"
   ]
  },
  {
   "cell_type": "code",
   "execution_count": 8,
   "id": "3124b3c0-fbce-4693-b22e-e158ae152e1b",
   "metadata": {},
   "outputs": [
    {
     "data": {
      "text/html": [
       "<div><strong>Dask DataFrame Structure:</strong></div>\n",
       "<table border=\"1\" class=\"dataframe\">\n",
       "  <thead>\n",
       "    <tr style=\"text-align: right;\">\n",
       "      <th></th>\n",
       "      <th>a</th>\n",
       "      <th>b</th>\n",
       "    </tr>\n",
       "    <tr>\n",
       "      <th>npartitions=3</th>\n",
       "      <th></th>\n",
       "      <th></th>\n",
       "    </tr>\n",
       "  </thead>\n",
       "  <tbody>\n",
       "    <tr>\n",
       "      <th>0</th>\n",
       "      <td>int64</td>\n",
       "      <td>int64</td>\n",
       "    </tr>\n",
       "    <tr>\n",
       "      <th>3333334</th>\n",
       "      <td>...</td>\n",
       "      <td>...</td>\n",
       "    </tr>\n",
       "    <tr>\n",
       "      <th>6666667</th>\n",
       "      <td>...</td>\n",
       "      <td>...</td>\n",
       "    </tr>\n",
       "    <tr>\n",
       "      <th>9999999</th>\n",
       "      <td>...</td>\n",
       "      <td>...</td>\n",
       "    </tr>\n",
       "  </tbody>\n",
       "</table>\n",
       "<div>Dask Name: frompandas, 1 expression</div>"
      ],
      "text/plain": [
       "Dask DataFrame Structure:\n",
       "                   a      b\n",
       "npartitions=3              \n",
       "0              int64  int64\n",
       "3333334          ...    ...\n",
       "6666667          ...    ...\n",
       "9999999          ...    ...\n",
       "Dask Name: frompandas, 1 expression\n",
       "Expr=df"
      ]
     },
     "execution_count": 8,
     "metadata": {},
     "output_type": "execute_result"
    }
   ],
   "source": [
    "ddf"
   ]
  },
  {
   "cell_type": "code",
   "execution_count": 9,
   "id": "8565833a-7c67-4031-9157-74b0521de1a7",
   "metadata": {},
   "outputs": [
    {
     "data": {
      "text/plain": [
       "Dask Series Structure:\n",
       "npartitions=1\n",
       "a    float64\n",
       "b        ...\n",
       "Dask Name: sqrt, 4 expressions\n",
       "Expr=MapPartitions(sqrt)"
      ]
     },
     "execution_count": 9,
     "metadata": {},
     "output_type": "execute_result"
    }
   ],
   "source": [
    "ddf.std()"
   ]
  },
  {
   "cell_type": "code",
   "execution_count": 10,
   "id": "4ada19e3-b7e5-4b5c-8c5f-d1030ed3bff1",
   "metadata": {},
   "outputs": [
    {
     "data": {
      "text/plain": [
       "a    29.152669\n",
       "b    57.450031\n",
       "dtype: float64"
      ]
     },
     "execution_count": 10,
     "metadata": {},
     "output_type": "execute_result"
    }
   ],
   "source": [
    "ddf.std().compute()"
   ]
  },
  {
   "cell_type": "code",
   "execution_count": 12,
   "id": "22265e73-479a-4052-9469-5bc70fb7b600",
   "metadata": {},
   "outputs": [],
   "source": [
    "result = ddf.a.sum() - ddf.b.sum()"
   ]
  },
  {
   "cell_type": "code",
   "execution_count": 13,
   "id": "dc7a442b-3eea-4f5e-9a85-1d84d41aebf2",
   "metadata": {},
   "outputs": [
    {
     "data": {
      "text/plain": [
       "<dask_expr.expr.Scalar: expr=df['a'].sum() - df['b'].sum(), dtype=int64>"
      ]
     },
     "execution_count": 13,
     "metadata": {},
     "output_type": "execute_result"
    }
   ],
   "source": [
    "result"
   ]
  },
  {
   "cell_type": "code",
   "execution_count": 14,
   "id": "261477fd-a48a-47d1-bfda-97e508a40a9b",
   "metadata": {},
   "outputs": [
    {
     "data": {
      "text/plain": [
       "np.int64(-509995977)"
      ]
     },
     "execution_count": 14,
     "metadata": {},
     "output_type": "execute_result"
    }
   ],
   "source": [
    "result.compute()"
   ]
  },
  {
   "cell_type": "code",
   "execution_count": 23,
   "id": "0781ef7f-828d-446f-8f6b-62016aa473ca",
   "metadata": {},
   "outputs": [
    {
     "data": {
      "text/plain": [
       "{('sub-be9ab426aca90618b9d1b848402ba01f',\n",
       "  0): <Task ('sub-be9ab426aca90618b9d1b848402ba01f', 0) sub(...)>,\n",
       " ('sum-tree-f1bc39f3840d1eba66bbf8012da9798e',\n",
       "  0): (<function dask.utils.apply(func, args, kwargs=None)>,\n",
       "  <bound method Reduction.aggregate of <class 'dask.dataframe.dask_expr._reductions.Sum'>>,\n",
       "  [[('chunk-f63f92a9a2712e1e02fd96a55f49b7d1', 0),\n",
       "    ('chunk-f63f92a9a2712e1e02fd96a55f49b7d1', 1),\n",
       "    ('chunk-f63f92a9a2712e1e02fd96a55f49b7d1', 2)]],\n",
       "  {'skipna': True, 'axis': 0}),\n",
       " ('chunk-f63f92a9a2712e1e02fd96a55f49b7d1',\n",
       "  0): <Task ('chunk-f63f92a9a2712e1e02fd96a55f49b7d1', 0) chunk(..., ...)>,\n",
       " ('chunk-f63f92a9a2712e1e02fd96a55f49b7d1',\n",
       "  1): <Task ('chunk-f63f92a9a2712e1e02fd96a55f49b7d1', 1) chunk(..., ...)>,\n",
       " ('chunk-f63f92a9a2712e1e02fd96a55f49b7d1',\n",
       "  2): <Task ('chunk-f63f92a9a2712e1e02fd96a55f49b7d1', 2) chunk(..., ...)>,\n",
       " ('getitem-243be722ece3496d3081771d4b986da5',\n",
       "  0): <Task ('getitem-243be722ece3496d3081771d4b986da5', 0) getitem(...)>,\n",
       " ('getitem-243be722ece3496d3081771d4b986da5',\n",
       "  1): <Task ('getitem-243be722ece3496d3081771d4b986da5', 1) getitem(...)>,\n",
       " ('getitem-243be722ece3496d3081771d4b986da5',\n",
       "  2): <Task ('getitem-243be722ece3496d3081771d4b986da5', 2) getitem(...)>,\n",
       " ('frompandas-4353c046eefd10d621f99260a299137d',\n",
       "  0): DataNode(          a    b\n",
       " 0        38   59\n",
       " 1        91  172\n",
       " 2        16   75\n",
       " 3        74   28\n",
       " 4         7  164\n",
       " ...      ..  ...\n",
       " 3333329  51  131\n",
       " 3333330   1  187\n",
       " 3333331  78   75\n",
       " 3333332  36   19\n",
       " 3333333   0   29\n",
       " \n",
       " [3333334 rows x 2 columns]),\n",
       " ('frompandas-4353c046eefd10d621f99260a299137d',\n",
       "  1): DataNode(          a    b\n",
       " 3333334  61   91\n",
       " 3333335  64  170\n",
       " 3333336  87  194\n",
       " 3333337  19  100\n",
       " 3333338  75   35\n",
       " ...      ..  ...\n",
       " 6666662  36  195\n",
       " 6666663  99   35\n",
       " 6666664  89   99\n",
       " 6666665  88   49\n",
       " 6666666  47  155\n",
       " \n",
       " [3333333 rows x 2 columns]),\n",
       " ('frompandas-4353c046eefd10d621f99260a299137d',\n",
       "  2): DataNode(          a    b\n",
       " 6666667  94   70\n",
       " 6666668  71   25\n",
       " 6666669  67  105\n",
       " 6666670  67  191\n",
       " 6666671  71  170\n",
       " ...      ..  ...\n",
       " 9999995  35  128\n",
       " 9999996  31  166\n",
       " 9999997  52  115\n",
       " 9999998  58  137\n",
       " 9999999  88  155\n",
       " \n",
       " [3333333 rows x 2 columns]),\n",
       " ('sum-tree-10112422672b6b04bfae45daa566a86b',\n",
       "  0): (<function dask.utils.apply(func, args, kwargs=None)>, <bound method Reduction.aggregate of <class 'dask.dataframe.dask_expr._reductions.Sum'>>, [[('chunk-73c3e6aa0f357d1dc3cf644e8d2ce3e0',\n",
       "     0),\n",
       "    ('chunk-73c3e6aa0f357d1dc3cf644e8d2ce3e0', 1),\n",
       "    ('chunk-73c3e6aa0f357d1dc3cf644e8d2ce3e0', 2)]], {'skipna': True,\n",
       "   'axis': 0}),\n",
       " ('chunk-73c3e6aa0f357d1dc3cf644e8d2ce3e0',\n",
       "  0): <Task ('chunk-73c3e6aa0f357d1dc3cf644e8d2ce3e0', 0) chunk(..., ...)>,\n",
       " ('chunk-73c3e6aa0f357d1dc3cf644e8d2ce3e0',\n",
       "  1): <Task ('chunk-73c3e6aa0f357d1dc3cf644e8d2ce3e0', 1) chunk(..., ...)>,\n",
       " ('chunk-73c3e6aa0f357d1dc3cf644e8d2ce3e0',\n",
       "  2): <Task ('chunk-73c3e6aa0f357d1dc3cf644e8d2ce3e0', 2) chunk(..., ...)>,\n",
       " ('getitem-cd3f25f391c1cbc70e8f2495de6fc9e5',\n",
       "  0): <Task ('getitem-cd3f25f391c1cbc70e8f2495de6fc9e5', 0) getitem(...)>,\n",
       " ('getitem-cd3f25f391c1cbc70e8f2495de6fc9e5',\n",
       "  1): <Task ('getitem-cd3f25f391c1cbc70e8f2495de6fc9e5', 1) getitem(...)>,\n",
       " ('getitem-cd3f25f391c1cbc70e8f2495de6fc9e5',\n",
       "  2): <Task ('getitem-cd3f25f391c1cbc70e8f2495de6fc9e5', 2) getitem(...)>}"
      ]
     },
     "execution_count": 23,
     "metadata": {},
     "output_type": "execute_result"
    }
   ],
   "source": [
    "result.dask #old way do not show graph now "
   ]
  },
  {
   "cell_type": "code",
   "execution_count": 25,
   "id": "a2fe5484-9009-4efe-9cef-d596bb47a7d9",
   "metadata": {},
   "outputs": [
    {
     "data": {
      "image/svg+xml": [
       "<?xml version=\"1.0\" encoding=\"UTF-8\" standalone=\"no\"?>\n",
       "<!DOCTYPE svg PUBLIC \"-//W3C//DTD SVG 1.1//EN\"\n",
       " \"http://www.w3.org/Graphics/SVG/1.1/DTD/svg11.dtd\">\n",
       "<!-- Generated by graphviz version 2.43.0 (0)\n",
       " -->\n",
       "<!-- Title: %3 Pages: 1 -->\n",
       "<svg width=\"574pt\" height=\"260pt\"\n",
       " viewBox=\"0.00 0.00 573.50 260.00\" xmlns=\"http://www.w3.org/2000/svg\" xmlns:xlink=\"http://www.w3.org/1999/xlink\">\n",
       "<g id=\"graph0\" class=\"graph\" transform=\"scale(1 1) rotate(0) translate(4 256)\">\n",
       "<title>%3</title>\n",
       "<polygon fill=\"white\" stroke=\"transparent\" points=\"-4,4 -4,-256 569.5,-256 569.5,4 -4,4\"/>\n",
       "<!-- &#45;7379954949841066893 -->\n",
       "<g id=\"node1\" class=\"node\">\n",
       "<title>&#45;7379954949841066893</title>\n",
       "<polygon fill=\"none\" stroke=\"black\" points=\"369,-252 197,-252 197,-216 369,-216 369,-252\"/>\n",
       "<text text-anchor=\"middle\" x=\"283\" y=\"-229\" font-family=\"Helvetica,sans-Serif\" font-size=\"20.00\">Sub(Sum, Sum)</text>\n",
       "</g>\n",
       "<!-- &#45;2310393274100698250 -->\n",
       "<g id=\"node2\" class=\"node\">\n",
       "<title>&#45;2310393274100698250</title>\n",
       "<polygon fill=\"none\" stroke=\"black\" points=\"274,-180 100,-180 100,-144 274,-144 274,-180\"/>\n",
       "<text text-anchor=\"middle\" x=\"187\" y=\"-157\" font-family=\"Helvetica,sans-Serif\" font-size=\"20.00\">Sum(Projection)</text>\n",
       "</g>\n",
       "<!-- &#45;2310393274100698250&#45;&gt;&#45;7379954949841066893 -->\n",
       "<g id=\"edge1\" class=\"edge\">\n",
       "<title>&#45;2310393274100698250&#45;&gt;&#45;7379954949841066893</title>\n",
       "<path fill=\"none\" stroke=\"black\" d=\"M210.73,-180.3C222.94,-189.2 237.99,-200.18 251.18,-209.8\"/>\n",
       "<polygon fill=\"black\" stroke=\"black\" points=\"249.4,-212.83 259.54,-215.9 253.52,-207.18 249.4,-212.83\"/>\n",
       "</g>\n",
       "<!-- 6495743725561386480 -->\n",
       "<g id=\"node3\" class=\"node\">\n",
       "<title>6495743725561386480</title>\n",
       "<polygon fill=\"none\" stroke=\"black\" points=\"274,-108 0,-108 0,-72 274,-72 274,-108\"/>\n",
       "<text text-anchor=\"middle\" x=\"137\" y=\"-85\" font-family=\"Helvetica,sans-Serif\" font-size=\"20.00\">Projection(FromPandas, b)</text>\n",
       "</g>\n",
       "<!-- 6495743725561386480&#45;&gt;&#45;2310393274100698250 -->\n",
       "<g id=\"edge3\" class=\"edge\">\n",
       "<title>6495743725561386480&#45;&gt;&#45;2310393274100698250</title>\n",
       "<path fill=\"none\" stroke=\"black\" d=\"M149.36,-108.3C155.23,-116.53 162.37,-126.52 168.84,-135.58\"/>\n",
       "<polygon fill=\"black\" stroke=\"black\" points=\"166.12,-137.79 174.78,-143.9 171.82,-133.72 166.12,-137.79\"/>\n",
       "</g>\n",
       "<!-- 7585412693611152811 -->\n",
       "<g id=\"node4\" class=\"node\">\n",
       "<title>7585412693611152811</title>\n",
       "<polygon fill=\"none\" stroke=\"black\" points=\"351.5,-36 214.5,-36 214.5,0 351.5,0 351.5,-36\"/>\n",
       "<text text-anchor=\"middle\" x=\"283\" y=\"-13\" font-family=\"Helvetica,sans-Serif\" font-size=\"20.00\">FromPandas</text>\n",
       "</g>\n",
       "<!-- 7585412693611152811&#45;&gt;6495743725561386480 -->\n",
       "<g id=\"edge4\" class=\"edge\">\n",
       "<title>7585412693611152811&#45;&gt;6495743725561386480</title>\n",
       "<path fill=\"none\" stroke=\"black\" d=\"M247.28,-36.12C227.5,-45.61 202.73,-57.49 181.67,-67.58\"/>\n",
       "<polygon fill=\"black\" stroke=\"black\" points=\"180.1,-64.45 172.6,-71.93 183.13,-70.76 180.1,-64.45\"/>\n",
       "</g>\n",
       "<!-- &#45;7421998345482993122 -->\n",
       "<g id=\"node6\" class=\"node\">\n",
       "<title>&#45;7421998345482993122</title>\n",
       "<polygon fill=\"none\" stroke=\"black\" points=\"565.5,-108 292.5,-108 292.5,-72 565.5,-72 565.5,-108\"/>\n",
       "<text text-anchor=\"middle\" x=\"429\" y=\"-85\" font-family=\"Helvetica,sans-Serif\" font-size=\"20.00\">Projection(FromPandas, a)</text>\n",
       "</g>\n",
       "<!-- 7585412693611152811&#45;&gt;&#45;7421998345482993122 -->\n",
       "<g id=\"edge6\" class=\"edge\">\n",
       "<title>7585412693611152811&#45;&gt;&#45;7421998345482993122</title>\n",
       "<path fill=\"none\" stroke=\"black\" d=\"M318.72,-36.12C338.5,-45.61 363.27,-57.49 384.33,-67.58\"/>\n",
       "<polygon fill=\"black\" stroke=\"black\" points=\"382.87,-70.76 393.4,-71.93 385.9,-64.45 382.87,-70.76\"/>\n",
       "</g>\n",
       "<!-- &#45;7629345143226035385 -->\n",
       "<g id=\"node5\" class=\"node\">\n",
       "<title>&#45;7629345143226035385</title>\n",
       "<polygon fill=\"none\" stroke=\"black\" points=\"491,-180 317,-180 317,-144 491,-144 491,-180\"/>\n",
       "<text text-anchor=\"middle\" x=\"404\" y=\"-157\" font-family=\"Helvetica,sans-Serif\" font-size=\"20.00\">Sum(Projection)</text>\n",
       "</g>\n",
       "<!-- &#45;7629345143226035385&#45;&gt;&#45;7379954949841066893 -->\n",
       "<g id=\"edge2\" class=\"edge\">\n",
       "<title>&#45;7629345143226035385&#45;&gt;&#45;7379954949841066893</title>\n",
       "<path fill=\"none\" stroke=\"black\" d=\"M374.4,-180.12C358.43,-189.36 338.54,-200.87 321.39,-210.79\"/>\n",
       "<polygon fill=\"black\" stroke=\"black\" points=\"319.62,-207.77 312.71,-215.81 323.12,-213.83 319.62,-207.77\"/>\n",
       "</g>\n",
       "<!-- &#45;7421998345482993122&#45;&gt;&#45;7629345143226035385 -->\n",
       "<g id=\"edge5\" class=\"edge\">\n",
       "<title>&#45;7421998345482993122&#45;&gt;&#45;7629345143226035385</title>\n",
       "<path fill=\"none\" stroke=\"black\" d=\"M422.82,-108.3C420,-116.19 416.61,-125.7 413.48,-134.45\"/>\n",
       "<polygon fill=\"black\" stroke=\"black\" points=\"410.18,-133.3 410.11,-143.9 416.77,-135.66 410.18,-133.3\"/>\n",
       "</g>\n",
       "</g>\n",
       "</svg>\n"
      ],
      "text/plain": [
       "<graphviz.graphs.Digraph at 0x79d9388478c0>"
      ]
     },
     "execution_count": 25,
     "metadata": {},
     "output_type": "execute_result"
    }
   ],
   "source": [
    "result.visualize() #new way need to install graphviz also "
   ]
  },
  {
   "cell_type": "code",
   "execution_count": null,
   "id": "cee77b8e-3f61-4f38-b32f-967415038ef6",
   "metadata": {},
   "outputs": [],
   "source": []
  }
 ],
 "metadata": {
  "kernelspec": {
   "display_name": "Python(env)",
   "language": "python",
   "name": "venv"
  },
  "language_info": {
   "codemirror_mode": {
    "name": "ipython",
    "version": 3
   },
   "file_extension": ".py",
   "mimetype": "text/x-python",
   "name": "python",
   "nbconvert_exporter": "python",
   "pygments_lexer": "ipython3",
   "version": "3.12.3"
  }
 },
 "nbformat": 4,
 "nbformat_minor": 5
}
