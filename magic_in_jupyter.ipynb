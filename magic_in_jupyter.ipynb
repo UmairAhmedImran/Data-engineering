{
 "cells": [
  {
   "cell_type": "code",
   "execution_count": 1,
   "id": "a6d206fa-6eb3-4ea2-9342-ef1a8ebee965",
   "metadata": {},
   "outputs": [
    {
     "data": {
      "application/json": {
       "cell": {
        "!": "OSMagics",
        "HTML": "Other",
        "SVG": "Other",
        "bash": "Other",
        "capture": "ExecutionMagics",
        "code_wrap": "ExecutionMagics",
        "debug": "ExecutionMagics",
        "file": "Other",
        "html": "DisplayMagics",
        "javascript": "DisplayMagics",
        "js": "DisplayMagics",
        "latex": "DisplayMagics",
        "markdown": "DisplayMagics",
        "perl": "Other",
        "prun": "ExecutionMagics",
        "pypy": "Other",
        "python": "Other",
        "python2": "Other",
        "python3": "Other",
        "ruby": "Other",
        "script": "ScriptMagics",
        "sh": "Other",
        "svg": "DisplayMagics",
        "sx": "OSMagics",
        "system": "OSMagics",
        "time": "ExecutionMagics",
        "timeit": "ExecutionMagics",
        "writefile": "OSMagics"
       },
       "line": {
        "alias": "OSMagics",
        "alias_magic": "BasicMagics",
        "autoawait": "AsyncMagics",
        "autocall": "AutoMagics",
        "automagic": "AutoMagics",
        "autosave": "KernelMagics",
        "bookmark": "OSMagics",
        "cat": "Other",
        "cd": "OSMagics",
        "clear": "KernelMagics",
        "code_wrap": "ExecutionMagics",
        "colors": "BasicMagics",
        "conda": "PackagingMagics",
        "config": "ConfigMagics",
        "connect_info": "KernelMagics",
        "cp": "Other",
        "debug": "ExecutionMagics",
        "dhist": "OSMagics",
        "dirs": "OSMagics",
        "doctest_mode": "BasicMagics",
        "ed": "Other",
        "edit": "KernelMagics",
        "env": "OSMagics",
        "gui": "BasicMagics",
        "hist": "Other",
        "history": "HistoryMagics",
        "killbgscripts": "ScriptMagics",
        "ldir": "Other",
        "less": "KernelMagics",
        "lf": "Other",
        "lk": "Other",
        "ll": "Other",
        "load": "CodeMagics",
        "load_ext": "ExtensionMagics",
        "loadpy": "CodeMagics",
        "logoff": "LoggingMagics",
        "logon": "LoggingMagics",
        "logstart": "LoggingMagics",
        "logstate": "LoggingMagics",
        "logstop": "LoggingMagics",
        "ls": "Other",
        "lsmagic": "BasicMagics",
        "lx": "Other",
        "macro": "ExecutionMagics",
        "magic": "BasicMagics",
        "mamba": "PackagingMagics",
        "man": "KernelMagics",
        "matplotlib": "PylabMagics",
        "micromamba": "PackagingMagics",
        "mkdir": "Other",
        "more": "KernelMagics",
        "mv": "Other",
        "notebook": "BasicMagics",
        "page": "BasicMagics",
        "pastebin": "CodeMagics",
        "pdb": "ExecutionMagics",
        "pdef": "NamespaceMagics",
        "pdoc": "NamespaceMagics",
        "pfile": "NamespaceMagics",
        "pinfo": "NamespaceMagics",
        "pinfo2": "NamespaceMagics",
        "pip": "PackagingMagics",
        "popd": "OSMagics",
        "pprint": "BasicMagics",
        "precision": "BasicMagics",
        "prun": "ExecutionMagics",
        "psearch": "NamespaceMagics",
        "psource": "NamespaceMagics",
        "pushd": "OSMagics",
        "pwd": "OSMagics",
        "pycat": "OSMagics",
        "pylab": "PylabMagics",
        "qtconsole": "KernelMagics",
        "quickref": "BasicMagics",
        "recall": "HistoryMagics",
        "rehashx": "OSMagics",
        "reload_ext": "ExtensionMagics",
        "rep": "Other",
        "rerun": "HistoryMagics",
        "reset": "NamespaceMagics",
        "reset_selective": "NamespaceMagics",
        "rm": "Other",
        "rmdir": "Other",
        "run": "ExecutionMagics",
        "save": "CodeMagics",
        "sc": "OSMagics",
        "set_env": "OSMagics",
        "store": "StoreMagics",
        "sx": "OSMagics",
        "system": "OSMagics",
        "tb": "ExecutionMagics",
        "time": "ExecutionMagics",
        "timeit": "ExecutionMagics",
        "unalias": "OSMagics",
        "unload_ext": "ExtensionMagics",
        "uv": "PackagingMagics",
        "who": "NamespaceMagics",
        "who_ls": "NamespaceMagics",
        "whos": "NamespaceMagics",
        "xdel": "NamespaceMagics",
        "xmode": "BasicMagics"
       }
      },
      "text/plain": [
       "Available line magics:\n",
       "%alias  %alias_magic  %autoawait  %autocall  %automagic  %autosave  %bookmark  %cat  %cd  %clear  %code_wrap  %colors  %conda  %config  %connect_info  %cp  %debug  %dhist  %dirs  %doctest_mode  %ed  %edit  %env  %gui  %hist  %history  %killbgscripts  %ldir  %less  %lf  %lk  %ll  %load  %load_ext  %loadpy  %logoff  %logon  %logstart  %logstate  %logstop  %ls  %lsmagic  %lx  %macro  %magic  %mamba  %man  %matplotlib  %micromamba  %mkdir  %more  %mv  %notebook  %page  %pastebin  %pdb  %pdef  %pdoc  %pfile  %pinfo  %pinfo2  %pip  %popd  %pprint  %precision  %prun  %psearch  %psource  %pushd  %pwd  %pycat  %pylab  %qtconsole  %quickref  %recall  %rehashx  %reload_ext  %rep  %rerun  %reset  %reset_selective  %rm  %rmdir  %run  %save  %sc  %set_env  %store  %sx  %system  %tb  %time  %timeit  %unalias  %unload_ext  %uv  %who  %who_ls  %whos  %xdel  %xmode\n",
       "\n",
       "Available cell magics:\n",
       "%%!  %%HTML  %%SVG  %%bash  %%capture  %%code_wrap  %%debug  %%file  %%html  %%javascript  %%js  %%latex  %%markdown  %%perl  %%prun  %%pypy  %%python  %%python2  %%python3  %%ruby  %%script  %%sh  %%svg  %%sx  %%system  %%time  %%timeit  %%writefile\n",
       "\n",
       "Automagic is ON, % prefix IS NOT needed for line magics."
      ]
     },
     "execution_count": 1,
     "metadata": {},
     "output_type": "execute_result"
    }
   ],
   "source": [
    "%lsmagic"
   ]
  },
  {
   "cell_type": "code",
   "execution_count": 2,
   "id": "5b0e35e2-157e-4b0c-b4c3-c1c8243b1fa4",
   "metadata": {},
   "outputs": [
    {
     "data": {
      "text/plain": [
       "\u001b[31mDocstring:\u001b[39m\n",
       "Define an alias for a system command.\n",
       "\n",
       "'%alias alias_name cmd' defines 'alias_name' as an alias for 'cmd'\n",
       "\n",
       "Then, typing 'alias_name params' will execute the system command 'cmd\n",
       "params' (from your underlying operating system).\n",
       "\n",
       "Aliases have lower precedence than magic functions and Python normal\n",
       "variables, so if 'foo' is both a Python variable and an alias, the\n",
       "alias can not be executed until 'del foo' removes the Python variable.\n",
       "\n",
       "You can use the %l specifier in an alias definition to represent the\n",
       "whole line when the alias is called.  For example::\n",
       "\n",
       "  In [2]: alias bracket echo \"Input in brackets: <%l>\"\n",
       "  In [3]: bracket hello world\n",
       "  Input in brackets: <hello world>\n",
       "\n",
       "You can also define aliases with parameters using %s specifiers (one\n",
       "per parameter)::\n",
       "\n",
       "  In [1]: alias parts echo first %s second %s\n",
       "  In [2]: %parts A B\n",
       "  first A second B\n",
       "  In [3]: %parts A\n",
       "  Incorrect number of arguments: 2 expected.\n",
       "  parts is an alias to: 'echo first %s second %s'\n",
       "\n",
       "Note that %l and %s are mutually exclusive.  You can only use one or\n",
       "the other in your aliases.\n",
       "\n",
       "Aliases expand Python variables just like system calls using ! or !!\n",
       "do: all expressions prefixed with '$' get expanded.  For details of\n",
       "the semantic rules, see PEP-215:\n",
       "https://peps.python.org/pep-0215/.  This is the library used by\n",
       "IPython for variable expansion.  If you want to access a true shell\n",
       "variable, an extra $ is necessary to prevent its expansion by\n",
       "IPython::\n",
       "\n",
       "  In [6]: alias show echo\n",
       "  In [7]: PATH='A Python string'\n",
       "  In [8]: show $PATH\n",
       "  A Python string\n",
       "  In [9]: show $$PATH\n",
       "  /usr/local/lf9560/bin:/usr/local/intel/compiler70/ia32/bin:...\n",
       "\n",
       "You can use the alias facility to access all of $PATH.  See the %rehashx\n",
       "function, which automatically creates aliases for the contents of your\n",
       "$PATH.\n",
       "\n",
       "If called with no parameters, %alias prints the current alias table\n",
       "for your system.  For posix systems, the default aliases are 'cat',\n",
       "'cp', 'mv', 'rm', 'rmdir', and 'mkdir', and other platform-specific\n",
       "aliases are added.  For windows-based systems, the default aliases are\n",
       "'copy', 'ddir', 'echo', 'ls', 'ldir', 'mkdir', 'ren', and 'rmdir'.\n",
       "\n",
       "You can see the definition of alias by adding a question mark in the\n",
       "end::\n",
       "\n",
       "  In [1]: cat?\n",
       "  Repr: <alias cat for 'cat'>\n",
       "\u001b[31mFile:\u001b[39m      ~/Desktop/Data-enginerring/venv/lib/python3.12/site-packages/IPython/core/magics/osm.py"
      ]
     },
     "metadata": {},
     "output_type": "display_data"
    }
   ],
   "source": [
    "%alias?"
   ]
  },
  {
   "cell_type": "code",
   "execution_count": 3,
   "id": "b14cb207-e9f8-450c-ba3a-9a9956409afc",
   "metadata": {},
   "outputs": [
    {
     "name": "stdout",
     "output_type": "stream",
     "text": [
      "77.1 μs ± 18.3 μs per loop (mean ± std. dev. of 7 runs, 1,000 loops each)\n"
     ]
    }
   ],
   "source": [
    "%timeit [x for x in range(1000)]"
   ]
  },
  {
   "cell_type": "code",
   "execution_count": 5,
   "id": "25f58170-503b-4f06-8552-2b809dc51cf2",
   "metadata": {},
   "outputs": [
    {
     "name": "stdout",
     "output_type": "stream",
     "text": [
      "884 μs ± 200 μs per loop (mean ± std. dev. of 7 runs, 100 loops each)\n"
     ]
    }
   ],
   "source": [
    "%%timeit\n",
    "for x in range(10000):\n",
    "    z = x + 1"
   ]
  },
  {
   "cell_type": "code",
   "execution_count": 6,
   "id": "e00fb010-1f34-405f-aa71-090d6e126949",
   "metadata": {},
   "outputs": [
    {
     "name": "stdout",
     "output_type": "stream",
     "text": [
      "Writing hello.py\n"
     ]
    }
   ],
   "source": [
    "%%writefile hello.py\n",
    "\n",
    "def say_hello():\n",
    "    print(\"hello\")\n",
    "    \n",
    "say_hello()"
   ]
  },
  {
   "cell_type": "code",
   "execution_count": 7,
   "id": "481a127f-69c7-473e-9566-d04632af50e1",
   "metadata": {},
   "outputs": [
    {
     "name": "stdout",
     "output_type": "stream",
     "text": [
      "hello\n"
     ]
    }
   ],
   "source": [
    "%run hello.py"
   ]
  },
  {
   "cell_type": "code",
   "execution_count": 8,
   "id": "4fa41c46-df67-43b9-afb0-78679c59476e",
   "metadata": {},
   "outputs": [],
   "source": [
    "# %load hello.py\n",
    "\n",
    "def say_hello():\n",
    "    print(\"hello\")\n",
    "\n",
    "say_hello()\n"
   ]
  },
  {
   "cell_type": "code",
   "execution_count": 9,
   "id": "313b734d-2cfa-48c4-a798-66bd3df86c1a",
   "metadata": {},
   "outputs": [
    {
     "name": "stdout",
     "output_type": "stream",
     "text": [
      "hello\n"
     ]
    }
   ],
   "source": [
    "say_hello()"
   ]
  },
  {
   "cell_type": "code",
   "execution_count": 10,
   "id": "0bc8065b-6ee8-4824-b3c0-ae4393da0d76",
   "metadata": {},
   "outputs": [
    {
     "data": {
      "text/plain": [
       "{'CLUTTER_IM_MODULE': 'xim',\n",
       " 'COLORFGBG': '15;0',\n",
       " 'COLORTERM': 'truecolor',\n",
       " 'DBUS_SESSION_BUS_ADDRESS': 'unix:path=/run/user/1000/bus',\n",
       " 'DESKTOP_SESSION': 'plasma',\n",
       " 'DISPLAY': ':0',\n",
       " 'GPG_AGENT_INFO': '/run/user/1000/gnupg/S.gpg-agent:0:1',\n",
       " 'GSM_SKIP_SSH_AGENT_WORKAROUND': 'true',\n",
       " 'GTK2_RC_FILES': '/etc/gtk-2.0/gtkrc:/home/umair/.gtkrc-2.0:/home/umair/.config/gtkrc-2.0',\n",
       " 'GTK_IM_MODULE': 'fcitx',\n",
       " 'GTK_RC_FILES': '/etc/gtk/gtkrc:/home/umair/.gtkrc:/home/umair/.config/gtkrc',\n",
       " 'HOME': '/home/umair',\n",
       " 'IM_CONFIG_PHASE': '1',\n",
       " 'INVOCATION_ID': '84d82e2bfa0c40cdb056ef1b3a64c0cb',\n",
       " 'JOURNAL_STREAM': '8:14326',\n",
       " 'KDE_APPLICATIONS_AS_SCOPE': '1',\n",
       " 'KDE_FULL_SESSION': 'true',\n",
       " 'KDE_SESSION_UID': '1000',\n",
       " 'KDE_SESSION_VERSION': '5',\n",
       " 'KONSOLE_DBUS_SERVICE': ':1.82',\n",
       " 'KONSOLE_DBUS_SESSION': '/Sessions/3',\n",
       " 'KONSOLE_DBUS_WINDOW': '/Windows/1',\n",
       " 'KONSOLE_VERSION': '230805',\n",
       " 'LANG': 'en_US.UTF-8',\n",
       " 'LANGUAGE': '',\n",
       " 'LC_ADDRESS': 'ur_PK',\n",
       " 'LC_IDENTIFICATION': 'ur_PK',\n",
       " 'LC_MEASUREMENT': 'ur_PK',\n",
       " 'LC_MONETARY': 'ur_PK',\n",
       " 'LC_NAME': 'ur_PK',\n",
       " 'LC_NUMERIC': 'ur_PK',\n",
       " 'LC_PAPER': 'ur_PK',\n",
       " 'LC_TELEPHONE': 'ur_PK',\n",
       " 'LC_TIME': 'ur_PK',\n",
       " 'LOGNAME': 'umair',\n",
       " 'MANAGERPID': '1764',\n",
       " 'MEMORY_PRESSURE_WATCH': '/sys/fs/cgroup/user.slice/user-1000.slice/user@1000.service/session.slice/plasma-ksmserver.service/memory.pressure',\n",
       " 'MEMORY_PRESSURE_WRITE': 'c29tZSAyMDAwMDAgMjAwMDAwMAA=',\n",
       " 'OLDPWD': '/home/umair/Desktop/Data-enginerring',\n",
       " 'PATH': '/home/umair/Desktop/Data-enginerring/venv/bin:/home/umair/.nvm/versions/node/v22.15.0/bin:/usr/local/sbin:/usr/local/bin:/usr/sbin:/usr/bin:/sbin:/bin:/usr/games:/usr/local/games:/snap/bin:/usr/local/go/bin',\n",
       " 'PROFILEHOME': '',\n",
       " 'PWD': '/home/umair/Desktop/Data-enginerring',\n",
       " 'QTWEBENGINE_DICTIONARIES_PATH': '/usr/share/hunspell-bdic/',\n",
       " 'QT_ACCESSIBILITY': '1',\n",
       " 'QT_AUTO_SCREEN_SCALE_FACTOR': '0',\n",
       " 'QT_IM_MODULE': 'fcitx',\n",
       " 'QT_SCREEN_SCALE_FACTORS': 'eDP-1=1.25;DP-1=1.25;HDMI-1=1.25;DP-2=1.25;HDMI-2=1.25;',\n",
       " 'SDL_IM_MODULE': 'fcitx',\n",
       " 'SESSION_MANAGER': 'local/umair:@/tmp/.ICE-unix/2044,unix/umair:/tmp/.ICE-unix/2044',\n",
       " 'SHELL': '/usr/bin/zsh',\n",
       " 'SHELL_SESSION_ID': '04cba03f4fa34ca1a215c38e3d5189b3',\n",
       " 'SHLVL': '2',\n",
       " 'SSH_AGENT_PID': '1879',\n",
       " 'SSH_ASKPASS': '/usr/bin/ksshaskpass',\n",
       " 'SSH_AUTH_SOCK': '/tmp/ssh-2HO5xS92hmCI/agent.1780',\n",
       " 'SYSTEMD_EXEC_PID': '2044',\n",
       " 'TERM': 'xterm-color',\n",
       " 'USER': 'umair',\n",
       " 'WINDOWID': '56623117',\n",
       " 'XAUTHORITY': '/tmp/xauth_RmmYyp',\n",
       " 'XCURSOR_SIZE': '24',\n",
       " 'XCURSOR_THEME': 'breeze_cursors',\n",
       " 'XDG_CONFIG_DIRS': '/home/umair/.config/kdedefaults:/etc/xdg/xdg-plasma:/etc/xdg:/usr/share/kubuntu-default-settings/kf5-settings',\n",
       " 'XDG_CURRENT_DESKTOP': 'KDE',\n",
       " 'XDG_DATA_DIRS': '/usr/share/plasma:/home/umair/.local/share/flatpak/exports/share:/var/lib/flatpak/exports/share:/usr/local/share:/usr/share',\n",
       " 'XDG_RUNTIME_DIR': '/run/user/1000',\n",
       " 'XDG_SEAT': 'seat0',\n",
       " 'XDG_SEAT_PATH': '/org/freedesktop/DisplayManager/Seat0',\n",
       " 'XDG_SESSION_CLASS': 'user',\n",
       " 'XDG_SESSION_DESKTOP': 'KDE',\n",
       " 'XDG_SESSION_ID': '1',\n",
       " 'XDG_SESSION_PATH': '/org/freedesktop/DisplayManager/Session0',\n",
       " 'XDG_SESSION_TYPE': 'x11',\n",
       " 'XDG_VTNR': '2',\n",
       " 'XMODIFIERS': '@im=fcitx',\n",
       " '_': '/home/umair/Desktop/Data-enginerring/venv/bin/jupyter',\n",
       " 'ZSH': '/home/umair/.oh-my-zsh',\n",
       " 'NVM_DIR': '/home/umair/.nvm',\n",
       " 'NVM_CD_FLAGS': '-q',\n",
       " 'NVM_BIN': '/home/umair/.nvm/versions/node/v22.15.0/bin',\n",
       " 'NVM_INC': '/home/umair/.nvm/versions/node/v22.15.0/include/node',\n",
       " 'PAGER': 'cat',\n",
       " 'LESS': '-R',\n",
       " 'LSCOLORS': 'Gxfxcxdxbxegedabagacad',\n",
       " 'LS_COLORS': 'rs=0:di=01;34:ln=01;36:mh=00:pi=40;33:so=01;35:do=01;35:bd=40;33;01:cd=40;33;01:or=40;31;01:mi=00:su=37;41:sg=30;43:ca=00:tw=30;42:ow=34;42:st=37;44:ex=01;32:*.tar=01;31:*.tgz=01;31:*.arc=01;31:*.arj=01;31:*.taz=01;31:*.lha=01;31:*.lz4=01;31:*.lzh=01;31:*.lzma=01;31:*.tlz=01;31:*.txz=01;31:*.tzo=01;31:*.t7z=01;31:*.zip=01;31:*.z=01;31:*.dz=01;31:*.gz=01;31:*.lrz=01;31:*.lz=01;31:*.lzo=01;31:*.xz=01;31:*.zst=01;31:*.tzst=01;31:*.bz2=01;31:*.bz=01;31:*.tbz=01;31:*.tbz2=01;31:*.tz=01;31:*.deb=01;31:*.rpm=01;31:*.jar=01;31:*.war=01;31:*.ear=01;31:*.sar=01;31:*.rar=01;31:*.alz=01;31:*.ace=01;31:*.zoo=01;31:*.cpio=01;31:*.7z=01;31:*.rz=01;31:*.cab=01;31:*.wim=01;31:*.swm=01;31:*.dwm=01;31:*.esd=01;31:*.avif=01;35:*.jpg=01;35:*.jpeg=01;35:*.mjpg=01;35:*.mjpeg=01;35:*.gif=01;35:*.bmp=01;35:*.pbm=01;35:*.pgm=01;35:*.ppm=01;35:*.tga=01;35:*.xbm=01;35:*.xpm=01;35:*.tif=01;35:*.tiff=01;35:*.png=01;35:*.svg=01;35:*.svgz=01;35:*.mng=01;35:*.pcx=01;35:*.mov=01;35:*.mpg=01;35:*.mpeg=01;35:*.m2v=01;35:*.mkv=01;35:*.webm=01;35:*.webp=01;35:*.ogm=01;35:*.mp4=01;35:*.m4v=01;35:*.mp4v=01;35:*.vob=01;35:*.qt=01;35:*.nuv=01;35:*.wmv=01;35:*.asf=01;35:*.rm=01;35:*.rmvb=01;35:*.flc=01;35:*.avi=01;35:*.fli=01;35:*.flv=01;35:*.gl=01;35:*.dl=01;35:*.xcf=01;35:*.xwd=01;35:*.yuv=01;35:*.cgm=01;35:*.emf=01;35:*.ogv=01;35:*.ogx=01;35:*.aac=00;36:*.au=00;36:*.flac=00;36:*.m4a=00;36:*.mid=00;36:*.midi=00;36:*.mka=00;36:*.mp3=00;36:*.mpc=00;36:*.ogg=00;36:*.ra=00;36:*.wav=00;36:*.oga=00;36:*.opus=00;36:*.spx=00;36:*.xspf=00;36:*~=00;90:*#=00;90:*.bak=00;90:*.crdownload=00;90:*.dpkg-dist=00;90:*.dpkg-new=00;90:*.dpkg-old=00;90:*.dpkg-tmp=00;90:*.old=00;90:*.orig=00;90:*.part=00;90:*.rej=00;90:*.rpmnew=00;90:*.rpmorig=00;90:*.rpmsave=00;90:*.swp=00;90:*.tmp=00;90:*.ucf-dist=00;90:*.ucf-new=00;90:*.ucf-old=00;90:',\n",
       " 'VIRTUAL_ENV': '/home/umair/Desktop/Data-enginerring/venv',\n",
       " 'PS1': '(venv) %{%f%b%k%}$(build_prompt) ',\n",
       " 'VIRTUAL_ENV_PROMPT': '(venv) ',\n",
       " 'JPY_SESSION_NAME': '/home/umair/Desktop/Data-enginerring/Untitled.ipynb',\n",
       " 'JPY_PARENT_PID': '37792',\n",
       " 'PYDEVD_USE_FRAME_EVAL': 'NO',\n",
       " 'CLICOLOR': '1',\n",
       " 'FORCE_COLOR': '1',\n",
       " 'CLICOLOR_FORCE': '1',\n",
       " 'GIT_PAGER': 'cat',\n",
       " 'MPLBACKEND': 'module://matplotlib_inline.backend_inline'}"
      ]
     },
     "execution_count": 10,
     "metadata": {},
     "output_type": "execute_result"
    }
   ],
   "source": [
    "%env"
   ]
  },
  {
   "cell_type": "code",
   "execution_count": 11,
   "id": "a18048f6-52ef-401f-9d75-69e06d1b69c3",
   "metadata": {},
   "outputs": [
    {
     "name": "stdout",
     "output_type": "stream",
     "text": [
      "env: USER_KEY=1234\n"
     ]
    }
   ],
   "source": [
    "%env USER_KEY=1234"
   ]
  },
  {
   "cell_type": "code",
   "execution_count": 12,
   "id": "8aec9c52-9fef-4156-ac9d-75c0144c24e1",
   "metadata": {},
   "outputs": [
    {
     "data": {
      "text/plain": [
       "'1234'"
      ]
     },
     "execution_count": 12,
     "metadata": {},
     "output_type": "execute_result"
    }
   ],
   "source": [
    "%env USER_KEY"
   ]
  },
  {
   "cell_type": "code",
   "execution_count": 16,
   "id": "6e980fe0-086d-4f6e-954d-0dddb1e94538",
   "metadata": {},
   "outputs": [
    {
     "name": "stdout",
     "output_type": "stream",
     "text": [
      "Couldn't find program: 'ruby'\n"
     ]
    }
   ],
   "source": [
    "%%script ruby\n",
    "\n",
    "puts \"Ruby say hello\""
   ]
  },
  {
   "cell_type": "code",
   "execution_count": 17,
   "id": "2d6c712f-687d-4369-9312-f813b53040b4",
   "metadata": {},
   "outputs": [],
   "source": [
    "def foo():\n",
    "    for x in range(1000):\n",
    "        z = x\n",
    "        a = 100*z\n",
    "\n",
    "foo()"
   ]
  },
  {
   "cell_type": "code",
   "execution_count": null,
   "id": "1f5263f0-5c3e-4aad-877f-f35a089624de",
   "metadata": {},
   "outputs": [],
   "source": []
  },
  {
   "cell_type": "code",
   "execution_count": null,
   "id": "cd31914b-560a-4d69-9c58-f020c3d71d65",
   "metadata": {},
   "outputs": [],
   "source": []
  }
 ],
 "metadata": {
  "kernelspec": {
   "display_name": "Python(env)",
   "language": "python",
   "name": "venv"
  },
  "language_info": {
   "codemirror_mode": {
    "name": "ipython",
    "version": 3
   },
   "file_extension": ".py",
   "mimetype": "text/x-python",
   "name": "python",
   "nbconvert_exporter": "python",
   "pygments_lexer": "ipython3",
   "version": "3.12.3"
  }
 },
 "nbformat": 4,
 "nbformat_minor": 5
}
